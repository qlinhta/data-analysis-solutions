{
 "cells": [
  {
   "cell_type": "code",
   "execution_count": 1,
   "id": "bcb9f0a4-a658-4593-848e-9f31f2527bec",
   "metadata": {
    "pycharm": {
     "name": "#%%\n"
    }
   },
   "outputs": [],
   "source": [
    "import numpy as np\n",
    "import matplotlib.pyplot as plt\n",
    "import seaborn as sns\n",
    "sns.set()"
   ]
  },
  {
   "cell_type": "code",
   "execution_count": 2,
   "id": "fbfb7d04-71f9-4c30-88ed-bdfac4005e38",
   "metadata": {
    "pycharm": {
     "name": "#%%\n"
    }
   },
   "outputs": [],
   "source": [
    "np.random.seed(0)\n",
    "\n",
    "d = 2\n",
    "n_tr = 100\n",
    "n_te = 100\n",
    "\n",
    "# Define the true coefficient vector:\n",
    "# a_true = np.random.rand(d)\n",
    "a_true = np.array([1, 0])\n",
    "\n",
    "def f_true(x):\n",
    "    return x @ a_true\n",
    "\n",
    "# Generate input data for the training set:\n",
    "x_tr = np.random.randn(n_tr, d)\n",
    "noise_tr = np.random.randn(n_tr)\n",
    "y_tr = f_true(x_tr) + noise_tr\n",
    "\n",
    "x_te = np.random.randn(n_te, d)\n",
    "# noise_te = np.random.randn(n_te)\n",
    "# y_te_true = f_true(x_te) + noise_te\n",
    "\n",
    "del noise_tr, a_true"
   ]
  },
  {
   "cell_type": "markdown",
   "id": "e13f0b20-b251-46bb-b3d2-186f30a09819",
   "metadata": {
    "pycharm": {
     "name": "#%% md\n"
    }
   },
   "source": [
    "Having input data `x_tr` and output data `y_tr`. `x_tr` is a $n$-by-$d$ matrix and `y_tr` is a $n$-dimensional vector, where $n$ is the number of data and $d$ is the data dimensionality. Each row of `x_tr` (`x_tr[i, :]`) is a single data record.\n",
    "\n",
    "Each data record `(x_tr[i, :], y_tr[i])` satisfies\n",
    "\\begin{equation*}\n",
    "  y_\\text{tr}[i] = \\boldsymbol{x}_\\text{tr}[i, :]^\\top \\boldsymbol{a}_\\text{true} + \\varepsilon_i\n",
    "\\end{equation*}\n",
    "with unknown $\\boldsymbol{a}_\\text{true}$ and unknown noise $\\varepsilon_i$ for which $\\mathbb{E}[\\varepsilon_i \\mid \\boldsymbol{x}_{tr}[i, :]] = 0$.\n",
    "\n",
    "Estimate the coefficients of the linear function, $\\boldsymbol{a}_\\text{true}$, using the ridge regression with the regularization parameter $\\lambda = 0.1$. Print the result using `print()`."
   ]
  },
  {
   "cell_type": "code",
   "execution_count": 3,
   "id": "b2881171-e4a7-4c7a-b33b-50fef4e7acb9",
   "metadata": {
    "pycharm": {
     "name": "#%%\n"
    }
   },
   "outputs": [
    {
     "name": "stdout",
     "output_type": "stream",
     "text": [
      "[ 1.10928327 -0.06098309]\n"
     ]
    }
   ],
   "source": [
    "n, d = x_tr.shape\n",
    "lam = 0.1\n",
    "a = np.linalg.solve(x_tr.T @ x_tr + lam * np.eye(d), x_tr.T @ y_tr)\n",
    "print(a)"
   ]
  },
  {
   "cell_type": "markdown",
   "id": "c7f02c19-2193-4e57-8323-15a9890f3abb",
   "metadata": {
    "pycharm": {
     "name": "#%% md\n"
    }
   },
   "source": [
    "The ridge regression estimate is given by $\\hat{\\boldsymbol{a}} := (\\boldsymbol{x}_\\text{tr}^\\top \\boldsymbol{x}_\\text{tr} + \\lambda \\boldsymbol{I}_d)^{-1} \\boldsymbol{x}_\\text{tr}^\\top \\boldsymbol{y}_\\text{tr}$. This is equivalent to solving $(\\boldsymbol{x}_\\text{tr}^\\top \\boldsymbol{x}_\\text{tr} + \\lambda \\boldsymbol{I}_d)\\hat{\\boldsymbol{a}} = \\boldsymbol{x}_\\text{tr}^\\top \\boldsymbol{y}_\\text{tr}$.\n",
    "\n",
    "There are two approaches based on those two formulas. You can pick either of them.\n",
    "\n",
    "### Approach 1\n",
    "The approach using the first formula $\\hat{\\boldsymbol{a}} := (\\boldsymbol{x}_\\text{tr}^\\top \\boldsymbol{x}_\\text{tr} + \\lambda \\boldsymbol{I}_d)^{-1} \\boldsymbol{x}_\\text{tr}^\\top \\boldsymbol{y}_\\text{tr}$ needs inverting a matrix. You can obtain the inverse of matrix $A$ by\n",
    "```python\n",
    "a = np.linalg.inv(A)\n",
    "```\n",
    "\n",
    "### Approach 2\n",
    "The approach using the second formula $(\\boldsymbol{x}_\\text{tr}^\\top \\boldsymbol{x}_\\text{tr} + \\lambda \\boldsymbol{I}_d)\\hat{\\boldsymbol{a}} = \\boldsymbol{x}_\\text{tr}^\\top \\boldsymbol{y}_\\text{tr}$ needs solving linear equations. You can obtain the solution $\\boldsymbol{a}$ to $\\boldsymbol{A} \\boldsymbol{a} = \\boldsymbol{y}$ by\n",
    "```python\n",
    "a = np.linalg.solve(A, y)\n",
    "```\n"
   ]
  },
  {
   "cell_type": "markdown",
   "id": "e7d80759-7fa6-46e2-8ed8-191fe7fdda06",
   "metadata": {
    "pycharm": {
     "name": "#%% md\n"
    }
   },
   "source": [
    "Having input data `x_te`. `x_te` is a $n$-by-$d$ matrix. Make predictions for each data `x_te[i, :]` using the estimate obtained in Exercise 6.S1. Show the result with a scatter plot. (You can either use the first dimension of `x_te` for the horizontal axis or do a 3D plot.)"
   ]
  },
  {
   "cell_type": "code",
   "execution_count": 4,
   "id": "64797791-c9de-458a-93fd-21e7f4fbba06",
   "metadata": {
    "pycharm": {
     "name": "#%%\n"
    }
   },
   "outputs": [
    {
     "data": {
      "text/plain": "Text(0, 0.5, 'y')"
     },
     "execution_count": 4,
     "metadata": {},
     "output_type": "execute_result"
    },
    {
     "data": {
      "text/plain": "<Figure size 432x432 with 1 Axes>",
      "image/png": "[encoded data removed]"
     },
     "metadata": {},
     "output_type": "display_data"
    }
   ],
   "source": [
    "y_te_hat = x_te @ a.T\n",
    "\n",
    "fig, ax = plt.subplots(figsize=(6, 6))\n",
    "\n",
    "## Plot the prediction on test data:\n",
    "ax.scatter(x_te[:, 0], y_te_hat, s=50, marker='^', label='Predictions')\n",
    "\n",
    "ax.legend(loc='upper left')\n",
    "ax.set_xlabel('x')\n",
    "ax.set_ylabel('y')"
   ]
  },
  {
   "cell_type": "code",
   "execution_count": 5,
   "id": "7acee3a0-0780-4013-8cc5-f62569a14f68",
   "metadata": {
    "pycharm": {
     "name": "#%%\n"
    }
   },
   "outputs": [
    {
     "ename": "ModuleNotFoundError",
     "evalue": "No module named 'ipympl'",
     "output_type": "error",
     "traceback": [
      "\u001B[0;31m---------------------------------------------------------------------------\u001B[0m",
      "\u001B[0;31mModuleNotFoundError\u001B[0m                       Traceback (most recent call last)",
      "Input \u001B[0;32mIn [5]\u001B[0m, in \u001B[0;36m<cell line: 1>\u001B[0;34m()\u001B[0m\n\u001B[0;32m----> 1\u001B[0m \u001B[43mget_ipython\u001B[49m\u001B[43m(\u001B[49m\u001B[43m)\u001B[49m\u001B[38;5;241;43m.\u001B[39;49m\u001B[43mrun_line_magic\u001B[49m\u001B[43m(\u001B[49m\u001B[38;5;124;43m'\u001B[39;49m\u001B[38;5;124;43mmatplotlib\u001B[39;49m\u001B[38;5;124;43m'\u001B[39;49m\u001B[43m,\u001B[49m\u001B[43m \u001B[49m\u001B[38;5;124;43m'\u001B[39;49m\u001B[38;5;124;43mwidget\u001B[39;49m\u001B[38;5;124;43m'\u001B[39;49m\u001B[43m)\u001B[49m\n\u001B[1;32m      3\u001B[0m \u001B[38;5;28;01mfrom\u001B[39;00m \u001B[38;5;21;01mmpl_toolkits\u001B[39;00m\u001B[38;5;21;01m.\u001B[39;00m\u001B[38;5;21;01mmplot3d\u001B[39;00m \u001B[38;5;28;01mimport\u001B[39;00m Axes3D\n\u001B[1;32m      4\u001B[0m \u001B[38;5;28;01mimport\u001B[39;00m \u001B[38;5;21;01mmatplotlib\u001B[39;00m\u001B[38;5;21;01m.\u001B[39;00m\u001B[38;5;21;01mpyplot\u001B[39;00m \u001B[38;5;28;01mas\u001B[39;00m \u001B[38;5;21;01mplt\u001B[39;00m\n",
      "File \u001B[0;32m~/.conda/envs/DataAnalysisPSL/lib/python3.10/site-packages/IPython/core/interactiveshell.py:2305\u001B[0m, in \u001B[0;36mInteractiveShell.run_line_magic\u001B[0;34m(self, magic_name, line, _stack_depth)\u001B[0m\n\u001B[1;32m   2303\u001B[0m     kwargs[\u001B[38;5;124m'\u001B[39m\u001B[38;5;124mlocal_ns\u001B[39m\u001B[38;5;124m'\u001B[39m] \u001B[38;5;241m=\u001B[39m \u001B[38;5;28mself\u001B[39m\u001B[38;5;241m.\u001B[39mget_local_scope(stack_depth)\n\u001B[1;32m   2304\u001B[0m \u001B[38;5;28;01mwith\u001B[39;00m \u001B[38;5;28mself\u001B[39m\u001B[38;5;241m.\u001B[39mbuiltin_trap:\n\u001B[0;32m-> 2305\u001B[0m     result \u001B[38;5;241m=\u001B[39m \u001B[43mfn\u001B[49m\u001B[43m(\u001B[49m\u001B[38;5;241;43m*\u001B[39;49m\u001B[43margs\u001B[49m\u001B[43m,\u001B[49m\u001B[43m \u001B[49m\u001B[38;5;241;43m*\u001B[39;49m\u001B[38;5;241;43m*\u001B[39;49m\u001B[43mkwargs\u001B[49m\u001B[43m)\u001B[49m\n\u001B[1;32m   2306\u001B[0m \u001B[38;5;28;01mreturn\u001B[39;00m result\n",
      "File \u001B[0;32m~/.conda/envs/DataAnalysisPSL/lib/python3.10/site-packages/IPython/core/magics/pylab.py:99\u001B[0m, in \u001B[0;36mPylabMagics.matplotlib\u001B[0;34m(self, line)\u001B[0m\n\u001B[1;32m     97\u001B[0m     \u001B[38;5;28mprint\u001B[39m(\u001B[38;5;124m\"\u001B[39m\u001B[38;5;124mAvailable matplotlib backends: \u001B[39m\u001B[38;5;132;01m%s\u001B[39;00m\u001B[38;5;124m\"\u001B[39m \u001B[38;5;241m%\u001B[39m backends_list)\n\u001B[1;32m     98\u001B[0m \u001B[38;5;28;01melse\u001B[39;00m:\n\u001B[0;32m---> 99\u001B[0m     gui, backend \u001B[38;5;241m=\u001B[39m \u001B[38;5;28;43mself\u001B[39;49m\u001B[38;5;241;43m.\u001B[39;49m\u001B[43mshell\u001B[49m\u001B[38;5;241;43m.\u001B[39;49m\u001B[43menable_matplotlib\u001B[49m\u001B[43m(\u001B[49m\u001B[43margs\u001B[49m\u001B[38;5;241;43m.\u001B[39;49m\u001B[43mgui\u001B[49m\u001B[38;5;241;43m.\u001B[39;49m\u001B[43mlower\u001B[49m\u001B[43m(\u001B[49m\u001B[43m)\u001B[49m\u001B[43m \u001B[49m\u001B[38;5;28;43;01mif\u001B[39;49;00m\u001B[43m \u001B[49m\u001B[38;5;28;43misinstance\u001B[39;49m\u001B[43m(\u001B[49m\u001B[43margs\u001B[49m\u001B[38;5;241;43m.\u001B[39;49m\u001B[43mgui\u001B[49m\u001B[43m,\u001B[49m\u001B[43m \u001B[49m\u001B[38;5;28;43mstr\u001B[39;49m\u001B[43m)\u001B[49m\u001B[43m \u001B[49m\u001B[38;5;28;43;01melse\u001B[39;49;00m\u001B[43m \u001B[49m\u001B[43margs\u001B[49m\u001B[38;5;241;43m.\u001B[39;49m\u001B[43mgui\u001B[49m\u001B[43m)\u001B[49m\n\u001B[1;32m    100\u001B[0m     \u001B[38;5;28mself\u001B[39m\u001B[38;5;241m.\u001B[39m_show_matplotlib_backend(args\u001B[38;5;241m.\u001B[39mgui, backend)\n",
      "File \u001B[0;32m~/.conda/envs/DataAnalysisPSL/lib/python3.10/site-packages/IPython/core/interactiveshell.py:3493\u001B[0m, in \u001B[0;36mInteractiveShell.enable_matplotlib\u001B[0;34m(self, gui)\u001B[0m\n\u001B[1;32m   3489\u001B[0m         \u001B[38;5;28mprint\u001B[39m(\u001B[38;5;124m'\u001B[39m\u001B[38;5;124mWarning: Cannot change to a different GUI toolkit: \u001B[39m\u001B[38;5;132;01m%s\u001B[39;00m\u001B[38;5;124m.\u001B[39m\u001B[38;5;124m'\u001B[39m\n\u001B[1;32m   3490\u001B[0m                 \u001B[38;5;124m'\u001B[39m\u001B[38;5;124m Using \u001B[39m\u001B[38;5;132;01m%s\u001B[39;00m\u001B[38;5;124m instead.\u001B[39m\u001B[38;5;124m'\u001B[39m \u001B[38;5;241m%\u001B[39m (gui, \u001B[38;5;28mself\u001B[39m\u001B[38;5;241m.\u001B[39mpylab_gui_select))\n\u001B[1;32m   3491\u001B[0m         gui, backend \u001B[38;5;241m=\u001B[39m pt\u001B[38;5;241m.\u001B[39mfind_gui_and_backend(\u001B[38;5;28mself\u001B[39m\u001B[38;5;241m.\u001B[39mpylab_gui_select)\n\u001B[0;32m-> 3493\u001B[0m \u001B[43mpt\u001B[49m\u001B[38;5;241;43m.\u001B[39;49m\u001B[43mactivate_matplotlib\u001B[49m\u001B[43m(\u001B[49m\u001B[43mbackend\u001B[49m\u001B[43m)\u001B[49m\n\u001B[1;32m   3494\u001B[0m configure_inline_support(\u001B[38;5;28mself\u001B[39m, backend)\n\u001B[1;32m   3496\u001B[0m \u001B[38;5;66;03m# Now we must activate the gui pylab wants to use, and fix %run to take\u001B[39;00m\n\u001B[1;32m   3497\u001B[0m \u001B[38;5;66;03m# plot updates into account\u001B[39;00m\n",
      "File \u001B[0;32m~/.conda/envs/DataAnalysisPSL/lib/python3.10/site-packages/IPython/core/pylabtools.py:359\u001B[0m, in \u001B[0;36mactivate_matplotlib\u001B[0;34m(backend)\u001B[0m\n\u001B[1;32m    354\u001B[0m \u001B[38;5;66;03m# Due to circular imports, pyplot may be only partially initialised\u001B[39;00m\n\u001B[1;32m    355\u001B[0m \u001B[38;5;66;03m# when this function runs.\u001B[39;00m\n\u001B[1;32m    356\u001B[0m \u001B[38;5;66;03m# So avoid needing matplotlib attribute-lookup to access pyplot.\u001B[39;00m\n\u001B[1;32m    357\u001B[0m \u001B[38;5;28;01mfrom\u001B[39;00m \u001B[38;5;21;01mmatplotlib\u001B[39;00m \u001B[38;5;28;01mimport\u001B[39;00m pyplot \u001B[38;5;28;01mas\u001B[39;00m plt\n\u001B[0;32m--> 359\u001B[0m \u001B[43mplt\u001B[49m\u001B[38;5;241;43m.\u001B[39;49m\u001B[43mswitch_backend\u001B[49m\u001B[43m(\u001B[49m\u001B[43mbackend\u001B[49m\u001B[43m)\u001B[49m\n\u001B[1;32m    361\u001B[0m plt\u001B[38;5;241m.\u001B[39mshow\u001B[38;5;241m.\u001B[39m_needmain \u001B[38;5;241m=\u001B[39m \u001B[38;5;28;01mFalse\u001B[39;00m\n\u001B[1;32m    362\u001B[0m \u001B[38;5;66;03m# We need to detect at runtime whether show() is called by the user.\u001B[39;00m\n\u001B[1;32m    363\u001B[0m \u001B[38;5;66;03m# For this, we wrap it into a decorator which adds a 'called' flag.\u001B[39;00m\n",
      "File \u001B[0;32m~/.conda/envs/DataAnalysisPSL/lib/python3.10/site-packages/matplotlib/pyplot.py:267\u001B[0m, in \u001B[0;36mswitch_backend\u001B[0;34m(newbackend)\u001B[0m\n\u001B[1;32m    260\u001B[0m \u001B[38;5;66;03m# Backends are implemented as modules, but \"inherit\" default method\u001B[39;00m\n\u001B[1;32m    261\u001B[0m \u001B[38;5;66;03m# implementations from backend_bases._Backend.  This is achieved by\u001B[39;00m\n\u001B[1;32m    262\u001B[0m \u001B[38;5;66;03m# creating a \"class\" that inherits from backend_bases._Backend and whose\u001B[39;00m\n\u001B[1;32m    263\u001B[0m \u001B[38;5;66;03m# body is filled with the module's globals.\u001B[39;00m\n\u001B[1;32m    265\u001B[0m backend_name \u001B[38;5;241m=\u001B[39m cbook\u001B[38;5;241m.\u001B[39m_backend_module_name(newbackend)\n\u001B[0;32m--> 267\u001B[0m \u001B[38;5;28;01mclass\u001B[39;00m \u001B[38;5;21;01mbackend_mod\u001B[39;00m(matplotlib\u001B[38;5;241m.\u001B[39mbackend_bases\u001B[38;5;241m.\u001B[39m_Backend):\n\u001B[1;32m    268\u001B[0m     \u001B[38;5;28mlocals\u001B[39m()\u001B[38;5;241m.\u001B[39mupdate(\u001B[38;5;28mvars\u001B[39m(importlib\u001B[38;5;241m.\u001B[39mimport_module(backend_name)))\n\u001B[1;32m    270\u001B[0m required_framework \u001B[38;5;241m=\u001B[39m _get_required_interactive_framework(backend_mod)\n",
      "File \u001B[0;32m~/.conda/envs/DataAnalysisPSL/lib/python3.10/site-packages/matplotlib/pyplot.py:268\u001B[0m, in \u001B[0;36mswitch_backend.<locals>.backend_mod\u001B[0;34m()\u001B[0m\n\u001B[1;32m    267\u001B[0m \u001B[38;5;28;01mclass\u001B[39;00m \u001B[38;5;21;01mbackend_mod\u001B[39;00m(matplotlib\u001B[38;5;241m.\u001B[39mbackend_bases\u001B[38;5;241m.\u001B[39m_Backend):\n\u001B[0;32m--> 268\u001B[0m     \u001B[38;5;28mlocals\u001B[39m()\u001B[38;5;241m.\u001B[39mupdate(\u001B[38;5;28mvars\u001B[39m(\u001B[43mimportlib\u001B[49m\u001B[38;5;241;43m.\u001B[39;49m\u001B[43mimport_module\u001B[49m\u001B[43m(\u001B[49m\u001B[43mbackend_name\u001B[49m\u001B[43m)\u001B[49m))\n",
      "File \u001B[0;32m~/.conda/envs/DataAnalysisPSL/lib/python3.10/importlib/__init__.py:126\u001B[0m, in \u001B[0;36mimport_module\u001B[0;34m(name, package)\u001B[0m\n\u001B[1;32m    124\u001B[0m             \u001B[38;5;28;01mbreak\u001B[39;00m\n\u001B[1;32m    125\u001B[0m         level \u001B[38;5;241m+\u001B[39m\u001B[38;5;241m=\u001B[39m \u001B[38;5;241m1\u001B[39m\n\u001B[0;32m--> 126\u001B[0m \u001B[38;5;28;01mreturn\u001B[39;00m \u001B[43m_bootstrap\u001B[49m\u001B[38;5;241;43m.\u001B[39;49m\u001B[43m_gcd_import\u001B[49m\u001B[43m(\u001B[49m\u001B[43mname\u001B[49m\u001B[43m[\u001B[49m\u001B[43mlevel\u001B[49m\u001B[43m:\u001B[49m\u001B[43m]\u001B[49m\u001B[43m,\u001B[49m\u001B[43m \u001B[49m\u001B[43mpackage\u001B[49m\u001B[43m,\u001B[49m\u001B[43m \u001B[49m\u001B[43mlevel\u001B[49m\u001B[43m)\u001B[49m\n",
      "File \u001B[0;32m<frozen importlib._bootstrap>:1050\u001B[0m, in \u001B[0;36m_gcd_import\u001B[0;34m(name, package, level)\u001B[0m\n",
      "File \u001B[0;32m<frozen importlib._bootstrap>:1027\u001B[0m, in \u001B[0;36m_find_and_load\u001B[0;34m(name, import_)\u001B[0m\n",
      "File \u001B[0;32m<frozen importlib._bootstrap>:992\u001B[0m, in \u001B[0;36m_find_and_load_unlocked\u001B[0;34m(name, import_)\u001B[0m\n",
      "File \u001B[0;32m<frozen importlib._bootstrap>:241\u001B[0m, in \u001B[0;36m_call_with_frames_removed\u001B[0;34m(f, *args, **kwds)\u001B[0m\n",
      "File \u001B[0;32m<frozen importlib._bootstrap>:1050\u001B[0m, in \u001B[0;36m_gcd_import\u001B[0;34m(name, package, level)\u001B[0m\n",
      "File \u001B[0;32m<frozen importlib._bootstrap>:1027\u001B[0m, in \u001B[0;36m_find_and_load\u001B[0;34m(name, import_)\u001B[0m\n",
      "File \u001B[0;32m<frozen importlib._bootstrap>:1004\u001B[0m, in \u001B[0;36m_find_and_load_unlocked\u001B[0;34m(name, import_)\u001B[0m\n",
      "\u001B[0;31mModuleNotFoundError\u001B[0m: No module named 'ipympl'"
     ]
    }
   ],
   "source": [
    "%matplotlib widget\n",
    "\n",
    "from mpl_toolkits.mplot3d import Axes3D\n",
    "import matplotlib.pyplot as plt\n",
    "\n",
    "fig = plt.figure()\n",
    "ax = Axes3D(fig)\n",
    "\n",
    "ax.scatter(xs=x_te[:, 0], ys=x_te[:, 1], zs=y_te_hat, label='Predictions')\n",
    "\n",
    "ax.legend()\n",
    "\n",
    "# setting title and labels\n",
    "ax.set_xlabel('$x_1$')\n",
    "ax.set_ylabel('$x_2$')\n",
    "ax.set_zlabel('$y$')"
   ]
  },
  {
   "cell_type": "code",
   "execution_count": null,
   "id": "a81abcd2-30c0-48e0-8946-ab6d98e8b99a",
   "metadata": {
    "pycharm": {
     "name": "#%%\n"
    }
   },
   "outputs": [],
   "source": []
  }
 ],
 "metadata": {
  "kernelspec": {
   "display_name": "Python 3 (ipykernel)",
   "language": "python",
   "name": "python3"
  },
  "language_info": {
   "codemirror_mode": {
    "name": "ipython",
    "version": 3
   },
   "file_extension": ".py",
   "mimetype": "text/x-python",
   "name": "python",
   "nbconvert_exporter": "python",
   "pygments_lexer": "ipython3",
   "version": "3.9.5"
  }
 },
 "nbformat": 4,
 "nbformat_minor": 5
}