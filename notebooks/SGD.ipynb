{
 "cells": [
  {
   "cell_type": "code",
   "execution_count": 57,
   "metadata": {
    "pycharm": {
     "name": "#%%\n"
    }
   },
   "outputs": [],
   "source": [
    "import matplotlib.pyplot as plt\n",
    "import numpy as np\n",
    "from matplotlib import rcParams\n",
    "from scipy import interpolate\n",
    "\n",
    "rcParams.update({'font.size': 18})\n",
    "plt.rcParams['figure.figsize'] = [12, 12]"
   ]
  },
  {
   "cell_type": "code",
   "execution_count": null,
   "outputs": [],
   "source": [
    "iterMax = 100\n",
    "h = 0.1\n",
    "x_grid = np.arange(-6,6+h,h)\n",
    "y_grid = np.copy(x_grid)\n",
    "n = len(x_grid)\n",
    "X,Y = np.meshgrid(x_grid,y_grid)\n",
    "\n",
    "F1 = 1.5 - 1.6*np.exp(-0.05*(3*np.power(X+3,2)+np.power(Y+3,2)))\n",
    "F = F1 + (0.5 - np.exp(-0.1*(3*np.power(X-3,2)+np.power(Y-3,2))))\n",
    "dFy,dFx = np.gradient(F,h,h)\n",
    "\n",
    "x0 = np.array([4,0,-5])\n",
    "y0 = np.array([0,-5,2])\n",
    "\n",
    "x = np.zeros(iterMax+1)\n",
    "y = np.copy(x)\n",
    "f = np.copy(x)\n",
    "\n",
    "x_out = np.zeros((iterMax+1,3));\n",
    "y_out = np.copy(x_out)\n",
    "f_out = np.copy(x_out)\n",
    "\n",
    "interp_type = 'linear'\n",
    "\n",
    "for jj in range(3):\n",
    "    q = np.random.permutation(n)\n",
    "    i1 = np.sort(q[:10])\n",
    "    q2 = np.random.permutation(n)\n",
    "    i2 = np.sort(q2[:10])\n",
    "    x[0] = x0[jj]\n",
    "    y[0] = y0[jj]\n",
    "    \n",
    "    F_i12 = F[i1[:, np.newaxis],i2]\n",
    "    dFx_i12 = dFx[i1[:, np.newaxis],i2]\n",
    "    dFy_i12 = dFy[i1[:, np.newaxis],i2]\n",
    "    \n",
    "    F_interp = interpolate.interp2d(x_grid[i1], y_grid[i2], F_i12, kind=interp_type)\n",
    "    dfx_interp = interpolate.interp2d(x_grid[i1], y_grid[i2], dFx_i12, kind=interp_type)\n",
    "    dfy_interp = interpolate.interp2d(x_grid[i1], y_grid[i2], dFy_i12, kind=interp_type)\n",
    "    \n",
    "    f[0] = F_interp(x[0],y[0])\n",
    "    dfx = dfx_interp(x[0],y[0])\n",
    "    dfy = dfy_interp(x[0],y[0])\n",
    "    \n",
    "#     tau = 2\n",
    "    tau = 1.5\n",
    "    for j in range(iterMax):\n",
    "        x[j+1] = x[j]-tau*dfx # update x, y, and f\n",
    "        y[j+1] = y[j]-tau*dfy\n",
    "        q = np.random.permutation(n)\n",
    "        i1 = np.sort(q[:10])\n",
    "#         ind1 = np.sort(q[:10])\n",
    "        q2 = np.random.permutation(n)\n",
    "        i2 = np.sort(q2[:10])\n",
    "#         ind2 = np.sort(q2[:10])\n",
    "        \n",
    "        F_interp = interpolate.interp2d(x_grid[i1], y_grid[i2], F_i12, kind=interp_type)\n",
    "        dfx_interp = interpolate.interp2d(x_grid[i1], y_grid[i2], dFx_i12, kind=interp_type)\n",
    "        dfy_interp = interpolate.interp2d(x_grid[i1], y_grid[i2], dFy_i12, kind=interp_type)\n",
    "        \n",
    "        f[j+1] = F_interp(x[j+1],y[j+1])\n",
    "        dfx = dfx_interp(x[j+1],y[j+1])\n",
    "        dfy = dfy_interp(x[j+1],y[j+1])\n",
    "        \n",
    "        if np.abs(f[j+1]-f[j]) < 10**(-6): # check convergence\n",
    "            print('Converged after {} iterations'.format(j+1))\n",
    "            break\n",
    "        if j == iterMax-1:\n",
    "            print('Failed to converge after {} iterations'.format(j+1))\n",
    "    x_out[:,jj] = x\n",
    "    y_out[:,jj] = y\n",
    "    f_out[:,jj] = f\n",
    "    \n",
    "    # If converged before iterMax, replace 0s with NaNs\n",
    "    x_out[(j+2):,jj] = np.nan\n",
    "    y_out[(j+2):,jj] = np.nan\n",
    "    f_out[(j+2):,jj] = np.nan\n"
   ],
   "metadata": {
    "collapsed": false,
    "pycharm": {
     "name": "#%%\n"
    }
   }
  },
  {
   "cell_type": "code",
   "execution_count": null,
   "outputs": [],
   "source": [
    "plt.figure()\n",
    "plt.contour(X,Y,F,colors='k')\n",
    "for jj in range(3):\n",
    "    plt.plot(x_out[:,jj],y_out[:,jj],'o')\n",
    "plt.show()"
   ],
   "metadata": {
    "collapsed": false,
    "pycharm": {
     "name": "#%%\n"
    }
   }
  },
  {
   "cell_type": "code",
   "execution_count": null,
   "outputs": [],
   "source": [
    "fig,ax = plt.subplots(1,1,subplot_kw={'projection': '3d'})\n",
    "ax.plot_surface(X, Y, F,linewidth=0,cmap='binary',alpha=0.3)\n",
    "for jj in range(3):\n",
    "    ax.scatter(x_out[:,jj],y_out[:,jj],f_out[:,jj]+0.1,'o',s=100)\n",
    "ax.view_init(elev=40, azim=-100)\n",
    "plt.show()"
   ],
   "metadata": {
    "collapsed": false,
    "pycharm": {
     "name": "#%%\n"
    }
   }
  }
 ],
 "metadata": {
  "kernelspec": {
   "display_name": "Python 3",
   "language": "python",
   "name": "python3"
  },
  "language_info": {
   "codemirror_mode": {
    "name": "ipython",
    "version": 3
   },
   "file_extension": ".py",
   "mimetype": "text/x-python",
   "name": "python",
   "nbconvert_exporter": "python",
   "pygments_lexer": "ipython3",
   "version": "3.6.8"
  }
 },
 "nbformat": 4,
 "nbformat_minor": 2
}