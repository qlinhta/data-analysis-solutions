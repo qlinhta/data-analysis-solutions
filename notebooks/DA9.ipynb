{
 "cells": [
  {
   "cell_type": "code",
   "execution_count": 1,
   "id": "8c653d1c-46db-4df5-90b3-4cc1bd23c685",
   "metadata": {
    "pycharm": {
     "name": "#%%\n"
    }
   },
   "outputs": [],
   "source": [
    "# Exercises for classification"
   ]
  },
  {
   "cell_type": "code",
   "execution_count": 3,
   "outputs": [],
   "source": [
    "import numpy as np\n",
    "import matplotlib.pyplot as plt\n",
    "\n",
    "n, d = 1000, 2\n",
    "\n",
    "y_tr = 2 * np.random.binomial(1, 0.5, n) - 1\n",
    "x_tr = np.zeros((n, d))\n",
    "x1_tr = np.random.randn((y_tr == -1).sum(), d) + np.array([100, 0])\n",
    "x2_tr = np.random.randn((y_tr == 1).sum(), d) + np.array([103, 0])\n",
    "x_tr[y_tr == -1, :2] = x1_tr\n",
    "x_tr[y_tr == 1, :2] = x2_tr"
   ],
   "metadata": {
    "collapsed": false,
    "pycharm": {
     "name": "#%%\n"
    }
   }
  },
  {
   "cell_type": "code",
   "execution_count": 4,
   "outputs": [],
   "source": [
    "y_te = 2 * np.random.binomial(1, 0.5, n) - 1\n",
    "x_te = np.zeros((n, d))\n",
    "x1_te = np.random.randn((y_te == -1).sum(), d) + np.array([100, 0])\n",
    "x2_te = np.random.randn((y_te == 1).sum(), d) + np.array([103, 0])\n",
    "x_te[y_te == -1, :2] = x1_te\n",
    "x_te[y_te == 1, :2] = x2_te"
   ],
   "metadata": {
    "collapsed": false,
    "pycharm": {
     "name": "#%%\n"
    }
   }
  },
  {
   "cell_type": "code",
   "execution_count": null,
   "outputs": [],
   "source": [],
   "metadata": {
    "collapsed": false,
    "pycharm": {
     "name": "#%%\n"
    }
   }
  }
 ],
 "metadata": {
  "kernelspec": {
   "display_name": "Python 3 (ipykernel)",
   "language": "python",
   "name": "python3"
  },
  "language_info": {
   "codemirror_mode": {
    "name": "ipython",
    "version": 3
   },
   "file_extension": ".py",
   "mimetype": "text/x-python",
   "name": "python",
   "nbconvert_exporter": "python",
   "pygments_lexer": "ipython3",
   "version": "3.9.5"
  }
 },
 "nbformat": 4,
 "nbformat_minor": 5
}